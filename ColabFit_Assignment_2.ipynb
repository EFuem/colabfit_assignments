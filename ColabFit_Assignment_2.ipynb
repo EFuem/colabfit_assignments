{
  "nbformat": 4,
  "nbformat_minor": 0,
  "metadata": {
    "colab": {
      "name": "ColabFit_Assignment.ipynb",
      "provenance": []
    },
    "kernelspec": {
      "name": "python3",
      "display_name": "Python 3"
    },
    "language_info": {
      "name": "python"
    }
  },
  "cells": [
    {
      "cell_type": "markdown",
      "source": [
        "**ColabFit Assignment 2a**\n",
        "\n",
        "Please complete this assignment by running the provided commands and returning this notebook with all cell outputs visible."
      ],
      "metadata": {
        "id": "ksE0554TplQT"
      }
    },
    {
      "cell_type": "markdown",
      "source": [
        "Install colabfit-tools"
      ],
      "metadata": {
        "id": "RLMbO25xqT2k"
      }
    },
    {
      "cell_type": "code",
      "source": [
        "!pip install git+https://github.com/colabfit/colabfit-tools.git@master"
      ],
      "metadata": {
        "id": "3vYChdI6_38A"
      },
      "execution_count": null,
      "outputs": []
    },
    {
      "cell_type": "markdown",
      "source": [
        "Install Mongo"
      ],
      "metadata": {
        "id": "XZFprNkMqZ9J"
      }
    },
    {
      "cell_type": "code",
      "source": [
        "!conda install -c conda-forge mongodb"
      ],
      "metadata": {
        "id": "ZG1G9Bpe_7R1"
      },
      "execution_count": null,
      "outputs": []
    },
    {
      "cell_type": "markdown",
      "source": [
        "Start Mongo server by running the below command within a secondary terminal:\n",
        "\n",
        "\n",
        "```\n",
        "mongod --dbpath <path_to_folder_for_storing_mongo_data>\n",
        "```\n",
        "\n"
      ],
      "metadata": {
        "id": "ZZo13rZIql0R"
      }
    },
    {
      "cell_type": "markdown",
      "source": [
        "Load all necessary packages/functions"
      ],
      "metadata": {
        "id": "sLNKdCxsrciT"
      }
    },
    {
      "cell_type": "code",
      "source": [
        "import numpy as np\n",
        "from colabfit.tools.database import MongoDatabase\n",
        "from colabfit.tools.configuration import AtomicConfiguration "
      ],
      "metadata": {
        "id": "iHHQKy455s9j"
      },
      "execution_count": null,
      "outputs": []
    },
    {
      "cell_type": "markdown",
      "source": [
        "Open a connection to the Mongo server"
      ],
      "metadata": {
        "id": "PChpcNNbrisN"
      }
    },
    {
      "cell_type": "code",
      "source": [
        "client = MongoDatabase('assignment2_database')"
      ],
      "metadata": {
        "id": "_mdSo24QT3r1"
      },
      "execution_count": null,
      "outputs": []
    },
    {
      "cell_type": "markdown",
      "source": [
        "Generate fake data"
      ],
      "metadata": {
        "id": "QY6K3PvSrtQ3"
      }
    },
    {
      "cell_type": "code",
      "source": [
        "configs = []\n",
        "for i in range (100):\n",
        "  ac = AtomicConfiguration(positions=np.random.random((i+1,3)),\n",
        "                           names=['CO_%s' %i],labels=['lt20' if i<19 else 'gte20'])\n",
        "  ac.info['potential-energy'] = -np.random.random()\n",
        "  ac.info['other-property'] = np.random.random()\n",
        "  configs.append(ac)"
      ],
      "metadata": {
        "id": "PauNYvqeT_Ul"
      },
      "execution_count": null,
      "outputs": []
    },
    {
      "cell_type": "markdown",
      "source": [
        "Setup Property definitions, settings, and maps\n",
        "\n",
        "\"potential_energy\" is already defined within ColabFit so we will load its definition.\n",
        "\n",
        "\"other_property\" is a new property and thus we will need to write a custom definition for it."
      ],
      "metadata": {
        "id": "drBMbpNfsAOW"
      }
    },
    {
      "cell_type": "code",
      "source": [
        "#Load existing definition\n",
        "#Currently writing new implementation of this\n",
        "\n",
        "\n",
        "\n",
        "#Create new definition\n",
        "base_definition = {\n",
        "    'property-id': 'other',\n",
        "    'property-title': 'Random property',\n",
        "    'property-description':\n",
        "        'Random property to be used as an example.'\\\n",
        "        'This property is not yet defined within Colabfit.'\\\n",
        "        'Therefore, its Property Definition must be created.',\n",
        "\n",
        "    'other': {\n",
        "        'type': 'float',\n",
        "        'has-unit': True,\n",
        "        'extent': [],\n",
        "        'required': True,\n",
        "        'description':\n",
        "            'Other random property of the system.'\n",
        "    },\n",
        "\n",
        "    'per-atom': {\n",
        "        'type': 'bool',\n",
        "        'has-unit': False,\n",
        "        'extent': [],\n",
        "        'required': True,\n",
        "        'description':\n",
        "            'If False, \"other\" has NOT been divided '\\\n",
        "            'by the number of atoms in the configuration.'\n",
        "    },\n",
        "}"
      ],
      "metadata": {
        "id": "mOJpu8DPX4qC"
      },
      "execution_count": null,
      "outputs": []
    },
    {
      "cell_type": "code",
      "source": [
        "#Settings\n",
        "potential_settings = dict()\n",
        "potential_settings['_method'] = 'Random' #may describe software, instrument, etc. used to find property value\n",
        "potential_settings['_description'] = 'Generated using np.random.random()'\n",
        "potential_settings['_files'] = None #scripts or other files to help reproducibility\n",
        "potential_settings['_labels'] = ['random', 'assignment1'] #labels to aid in querying\n",
        "\n",
        "other_settings = dict(potential_settings) #same settings here-may not always be the case"
      ],
      "metadata": {
        "id": "0emhbP7Wd-Mu"
      },
      "execution_count": null,
      "outputs": []
    },
    {
      "cell_type": "code",
      "source": [
        "#Map\n",
        "property_map = {\n",
        "        #Property Name\n",
        "        'potential-energy':[\n",
        "                # Property Definition field: {'field': .info keyword, 'units': ASE-readable units}\n",
        "                'potential-energy': {'field': 'potential-energy', 'units': 'eV'},\n",
        "                '_settings': potential_settings\n",
        "        ],\n",
        "        'other':[\n",
        "                'other': {'field': 'other-property', 'units': 's'},\n",
        "                '_settings': other_settings\n",
        "        ]\n",
        "}\n",
        "\n",
        "\n"
      ],
      "metadata": {
        "id": "kgKOqMePeMu6"
      },
      "execution_count": null,
      "outputs": []
    },
    {
      "cell_type": "markdown",
      "source": [
        "Insert Configurations/Property Instances into Database"
      ],
      "metadata": {
        "id": "WZOTzfU9sFVC"
      }
    },
    {
      "cell_type": "code",
      "source": [
        "ids = client.insert_data(\n",
        "    configs,\n",
        "    property_map=property_map,\n",
        "    verbose=True\n",
        ")\n",
        "all_co_ids, all_pi_ids = list(zip(*ids))  #IDs of all Configurations and Property Instances"
      ],
      "metadata": {
        "id": "Xd-JkxKRZu7T"
      },
      "execution_count": null,
      "outputs": []
    },
    {
      "cell_type": "markdown",
      "source": [
        "Construct ConfigurationSets"
      ],
      "metadata": {
        "id": "rXV5t61Hsh0j"
      }
    },
    {
      "cell_type": "code",
      "source": [
        "# As an example we will separate configurations into sets  \n",
        "# based upon whether or not they contain 20 or more atoms\n",
        "lt20_co_ids = client.get_data('configurations',fields= '_id',\n",
        "                              query={'_id':{'$in': all_co_ids}, '_labels': {'$in':'lt20'}},\n",
        "                              ravel=true).tolist()\n",
        "gte20_co_ids = all_co_ids.remove(lt20_co_ids)\n",
        "\n",
        "lt20_cs_id = client.insert_configuration_set(\n",
        "    lt20_co_ids,\n",
        "    description='Configurations with fewer than 20 atoms'\n",
        ")\n",
        "gt220_cs_id = client.insert_configuration_set(\n",
        "    gte20_co_ids,\n",
        "    description='Configurations with 20 atoms or more'\n",
        ")\n",
        "\n"
      ],
      "metadata": {
        "id": "L6qT7ugE7vqJ"
      },
      "execution_count": null,
      "outputs": []
    },
    {
      "cell_type": "markdown",
      "source": [
        "Construct Dataset"
      ],
      "metadata": {
        "id": "YtfeYaw7sric"
      }
    },
    {
      "cell_type": "code",
      "source": [
        "ds_id = client.insert_dataset(\n",
        "    cs_ids=[lt20_cs_id, gte20_cs_id],\n",
        "    pr_ids=all_pi_ids,\n",
        "    name='Assignment2',\n",
        "    authors=[\n",
        "        'Name1', 'Name2'\n",
        "    ],\n",
        "    links=[\n",
        "        'https://colabfit.org',\n",
        "        #Can include links to manuscripts, where data is stored, etc.\n",
        "    ],\n",
        "    description=\\\n",
        "        'Dataset of the Colabfit assignment. '\\\n",
        "        'Data was randomly generated.',\n",
        "    verbose=True,\n",
        ")"
      ],
      "metadata": {
        "id": "EDEpLq1zaK5J"
      },
      "execution_count": null,
      "outputs": []
    },
    {
      "cell_type": "markdown",
      "source": [
        "Confirm Dataset was added to the Database"
      ],
      "metadata": {
        "id": "1eQ733uZsz9N"
      }
    },
    {
      "cell_type": "code",
      "source": [
        "client.dataset.find_one()"
      ],
      "metadata": {
        "id": "v8H9AjBbb_A0"
      },
      "execution_count": null,
      "outputs": []
    },
    {
      "cell_type": "markdown",
      "source": [
        "**ColabFit Assignment 2b**\n",
        "\n",
        "Please complete this assignment by inserting appropriate code in cells below each instruction, running those cells, and returning this notebook with all cell outputs visible.\n",
        "\n",
        "The file \"---\" contains a subset of the data from the Zeo-1 dataset (see link for more information)"
      ],
      "metadata": {
        "id": "Ye2qnYIMtTEv"
      }
    },
    {
      "cell_type": "markdown",
      "source": [
        "1) Open a connection to the Mongo server"
      ],
      "metadata": {
        "id": "Mr3ZPAr8vMG3"
      }
    },
    {
      "cell_type": "markdown",
      "source": [
        "2) Load data present within the file \"---\" using below template:\n",
        "\n",
        "\n",
        "```\n",
        "images = load_data(\n",
        "    file_path='path-to-file',\n",
        "    file_format='xyz',\n",
        "    reader=lambda x : read(x,index=':'),\n",
        "    name_field='name',\n",
        "    elements=['Si', 'O', 'H', 'Al', 'N', 'Ca', 'Ge', 'Li', 'Na', 'K', 'C', 'F', 'Be', 'Cs', 'Ba'],\n",
        "    verbose=True\n",
        ")\n",
        "\n",
        "```\n",
        "\n"
      ],
      "metadata": {
        "id": "L9_m6dpnvWqA"
      }
    },
    {
      "cell_type": "markdown",
      "source": [
        "3) Setup Property maps for all properties present in the data"
      ],
      "metadata": {
        "id": "qY1vgPZSv42B"
      }
    },
    {
      "cell_type": "markdown",
      "source": [
        "4) Insert Configurations/Property Instances into Database"
      ],
      "metadata": {
        "id": "gXrE0PaIQjqX"
      }
    },
    {
      "cell_type": "markdown",
      "source": [
        "5) Construct ConfigurationSets in any way you see fit"
      ],
      "metadata": {
        "id": "2eMFc0L_Qp02"
      }
    },
    {
      "cell_type": "markdown",
      "source": [
        "6) Construct the Dataset"
      ],
      "metadata": {
        "id": "14ljFnWMRQps"
      }
    },
    {
      "cell_type": "markdown",
      "source": [
        "7) Query the Database to count the number of items named \"---\""
      ],
      "metadata": {
        "id": "-U-jh0wCRS_6"
      }
    },
    {
      "cell_type": "code",
      "source": [
        ""
      ],
      "metadata": {
        "id": "tCpC-6S5pXnx"
      },
      "execution_count": null,
      "outputs": []
    }
  ]
}